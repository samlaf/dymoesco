{
 "cells": [
  {
   "cell_type": "markdown",
   "metadata": {},
   "source": [
    "# We implement a Kalman Filter on a double integrator $\\ddot{x} = a + v$ with GPS measurements $z = x + w$\n",
    "We follow https://www.intechopen.com/books/introduction-and-implementations-of-the-kalman-filter/introduction-to-kalman-filter-and-its-applications section 2"
   ]
  },
  {
   "cell_type": "markdown",
   "metadata": {},
   "source": [
    "\\begin{align}\n",
    "x_{k+1} = \\pmatrix{ p_{k+1} \\\\ v_{k+1}} \n",
    "&= \\pmatrix{ p_k + v_k \\Delta t + \\frac{1}{2} a_k \\Delta t^2 \\\\ v_k + a_k \\Delta t} \\\\\n",
    "&= \\pmatrix{ I_{3 \\times 3} & I_{3 \\times 3} \\Delta t \\\\ 0 & I_{3 \\times 3}} \\pmatrix{ p_k \\\\ v_k} +\n",
    "   \\pmatrix{ \\frac{1}{2} I_{3 \\times 3} \\Delta t^2 \\\\  I_{3 \\times 3} \\Delta t} a_k \\\\\n",
    "&= Ax_k + Ba_k\n",
    "\\end{align}"
   ]
  },
  {
   "cell_type": "code",
   "execution_count": 2,
   "metadata": {},
   "outputs": [],
   "source": [
    "import numpy as np\n",
    "from scipy.integrate import solve_ivp\n",
    "import matplotlib.pyplot as plt\n",
    "from estimation.filters import KalmanFilter\n",
    "from dynamics.doubleintegrator import DoubleIntegrator\n",
    "np.set_printoptions(suppress=True, precision=3)"
   ]
  },
  {
   "cell_type": "code",
   "execution_count": 3,
   "metadata": {},
   "outputs": [],
   "source": [
    "# PARAMS\n",
    "a_std = 0.3\n",
    "p_std = 3\n",
    "v_std = 0.03\n",
    "\n",
    "x0 = np.array([2,-2,0,5,5.1,0.1])\n",
    "P0 = np.block([[np.eye(3) * 4**2, np.zeros((3,3))],\n",
    "               [np.zeros((3,3)), np.eye(3) * 0.4**2]])\n",
    "dt = 1\n",
    "N = 20"
   ]
  },
  {
   "cell_type": "code",
   "execution_count": 4,
   "metadata": {},
   "outputs": [],
   "source": [
    "# Building the Kalman Filter\n",
    "Q = np.block([[1/4 * dt**4 * np.eye(3), 1/2 * dt**3 * np.eye(3)],\n",
    "              [1/2 * dt**3 * np.eye(3), dt**2 * np.eye(3)]])\n",
    "R = a_std**2 *np.block([[np.eye(3) * p_std**2, np.zeros((3,3))],\n",
    "                        [np.zeros((3,3)), np.eye(3) * v_std**2]])\n",
    "A = np.block([[np.eye(3), np.eye(3)*dt],\n",
    "              [np.zeros((3,3)), np.eye(3)]])\n",
    "B = np.block([[1/2 * np.eye(3) * dt**2],\n",
    "              [np.eye(3) * dt]])\n",
    "C = np.eye(6)\n",
    "kf = KalmanFilter(A,B,C,Q,R)"
   ]
  },
  {
   "cell_type": "code",
   "execution_count": 5,
   "metadata": {},
   "outputs": [],
   "source": [
    "di = DoubleIntegrator(dim=3)\n",
    "def u(t):\n",
    "    return np.random.normal(0, a_std, 3)\n",
    "\n",
    "x0 = [0,0,0,5,5,0]\n",
    "t_span = (0,N)\n",
    "sol = solve_ivp(lambda t,x: di.f(t,x,u(t)), t_span, x0, t_eval=np.arange(0,N,dt))"
   ]
  },
  {
   "cell_type": "code",
   "execution_count": 10,
   "metadata": {},
   "outputs": [],
   "source": [
    "# KF prediction only\n",
    "preds = np.zeros((N,6))\n",
    "preds[0] = x0\n",
    "x = x0; P = P0;\n",
    "for i in range(1,20):\n",
    "    x, P = kf.predict(x, P, np.zeros(3))\n",
    "    preds[i] = x"
   ]
  },
  {
   "cell_type": "code",
   "execution_count": 14,
   "metadata": {},
   "outputs": [],
   "source": [
    "# Generate noisy observations\n",
    "x = sol.y\n",
    "p_obs_noise = np.random.normal(0, p_std, (3,N))\n",
    "v_obs_noise = np.random.normal(0, v_std, (3,N))\n",
    "obs_noise = np.vstack([p_obs_noise, v_obs_noise])\n",
    "obs = x + obs_noise"
   ]
  },
  {
   "cell_type": "code",
   "execution_count": 17,
   "metadata": {},
   "outputs": [],
   "source": [
    "# KF with pred + update\n",
    "filtered = np.zeros((N,6))\n",
    "filtered[0] = x0\n",
    "x = x0; P = P0;\n",
    "for i in range(1,20):\n",
    "    x, P = kf.predict(x, P, np.zeros(3))\n",
    "    x, P = kf.update(x, P, obs.T[i])\n",
    "    filtered[i] = x"
   ]
  },
  {
   "cell_type": "code",
   "execution_count": 18,
   "metadata": {},
   "outputs": [
    {
     "data": {
      "text/plain": [
       "<matplotlib.legend.Legend at 0x116e71700>"
      ]
     },
     "execution_count": 18,
     "metadata": {},
     "output_type": "execute_result"
    },
    {
     "data": {
      "image/png": "[encoded data removed]",
      "text/plain": [
       "<Figure size 432x288 with 1 Axes>"
      ]
     },
     "metadata": {
      "needs_background": "light"
     },
     "output_type": "display_data"
    }
   ],
   "source": [
    "plt.plot(x[0], label=\"x0 true\")\n",
    "plt.plot(x[1], label=\"x1 true\")\n",
    "plt.plot(preds.T[0], label=\"x0 pred only\")\n",
    "plt.plot(preds.T[1], label=\"x1 pred only\")\n",
    "plt.plot(obs[0], label=\"x0 observations\")\n",
    "plt.plot(obs[1], label=\"x1 observations\")\n",
    "plt.plot(filtered.T[0], label=\"x0 pred+update\")\n",
    "plt.plot(filtered.T[1], label=\"x1 pred+update\")\n",
    "plt.legend()"
   ]
  },
  {
   "cell_type": "code",
   "execution_count": null,
   "metadata": {},
   "outputs": [],
   "source": []
  }
 ],
 "metadata": {
  "kernelspec": {
   "display_name": "robotics-python3",
   "language": "python",
   "name": "robotics-python3"
  },
  "language_info": {
   "codemirror_mode": {
    "name": "ipython",
    "version": 3
   },
   "file_extension": ".py",
   "mimetype": "text/x-python",
   "name": "python",
   "nbconvert_exporter": "python",
   "pygments_lexer": "ipython3",
   "version": "3.8.6"
  }
 },
 "nbformat": 4,
 "nbformat_minor": 4
}
