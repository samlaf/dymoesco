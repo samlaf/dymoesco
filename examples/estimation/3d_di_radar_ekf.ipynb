{
 "cells": [
  {
   "cell_type": "markdown",
   "metadata": {},
   "source": [
    "# We implement an Extended Kalman Filter (EKF) on a double integrator $\\ddot{x} = \\epsilon$ with range/bearing measurements\n",
    "We follow https://www.intechopen.com/books/introduction-and-implementations-of-the-kalman-filter/introduction-to-kalman-filter-and-its-applications section 3"
   ]
  },
  {
   "cell_type": "markdown",
   "metadata": {},
   "source": [
    "### Process Model\n",
    "\\begin{align}\n",
    "x_{k+1} &= \\pmatrix{I_{3 \\times 3} & I_{3 \\times 3} \\Delta t \\\\ 0_{3 \\times 3} & I_{3 \\times 3}} x_{k} + v_k \\\\\n",
    "   &= Ax_k + v_k\n",
    "\\end{align}\n",
    "   \n",
    "\n",
    "where\n",
    "\n",
    "$ x_k = [p_k^T, v_k^T] $ \n",
    "\n",
    "$v_k \\sim N(0, Q)$\n",
    "\n",
    "$ Q = \\pmatrix{ 0_{3 \\times 3} & & 0_{3 \\times 3} \\\\\n",
    "                                & \\sigma_x^2 & 0 & 0 \\\\\n",
    "                 0_{3 \\times 3} & 0 & \\sigma_y^2 & 0 \\\\\n",
    "                                & 0 & 0 & \\sigma_z^2} $"
   ]
  },
  {
   "cell_type": "markdown",
   "metadata": {},
   "source": [
    "#### Prediction step\n",
    "$ \\hat{x}_{k+1}^- = A\\hat{x}_k^+$\n",
    "\n",
    "$ P_{k+1}^- = AP_k^+ A^T + Q_m$\n",
    "\n",
    "where\n",
    "\n",
    "$Q_m = \\pmatrix{ 0_{3 \\times 3} & 0_{3 \\times 3} \\\\\n",
    "                 0_{3 \\times 3} & I_{3 \\times 3} \\sigma_v^2 } $ is the model's Q matrix (note that its different from the real Q here)"
   ]
  },
  {
   "cell_type": "markdown",
   "metadata": {},
   "source": [
    "### Measurement model\n",
    "\n",
    " <div style=\"width: 100%;\">\n",
    "     <div style=\"width: 40%; float: left;\">\n",
    "      <img src=\"spherical_coordinates.png\" alt=\"spherical coordinates\" width=\"200\"/>\n",
    "    </div>\n",
    "     <div style=\"width: 49%; float: left;\">\n",
    "\\begin{align}\n",
    "    z_k = \\pmatrix{\\phi \\\\ \\theta \\\\ r} = \n",
    "    \\pmatrix{\\text{atan}\\left(\\frac{x_t-x_s}{y_t - y_s}\\right) \\\\\n",
    "         \\text{atan}\\left(\\frac{z_t - z_s}{r_{xy}}\\right) \\\\\n",
    "         r_{xyz}} + w_k\n",
    "\\end{align}\n",
    "    </div>\n",
    "</div>\n",
    "<br style=\"clear: left;\">\n",
    "\n",
    "where\n",
    "\n",
    "$ r_{xy} = \\sqrt{(x_t-x_s)^2 + (y_t-y_s)^2} $, \n",
    "$ r_{xyz} = \\sqrt{(x_t-x_s)^2 + (y_t-y_s)^2 + (z_t-y_s)^2} $\n",
    "\n",
    "$w_k \\sim N(0, R)$\n",
    "\n",
    "$R = \\pmatrix{0.02^2 & 0 & 0 \\\\\n",
    "              0 & 0.02^2 & 0 \\\\\n",
    "              0 & 0 & 1.0^2 } $"
   ]
  },
  {
   "cell_type": "markdown",
   "metadata": {},
   "source": [
    "#### Update step\n",
    "$$ \n",
    "H_k = \\frac{\\partial z_k}{\\partial x_k}\\Big|_{\\hat{x}_k^-} =\n",
    "   \\pmatrix{ \\frac{-y}{x^2+y^2} & \\frac{x}{x^2+y^2} & 0 \\\\\n",
    "             \\frac{-xz}{r_{xyz}^2 r_{xy}} & \\frac{-yz}{r_{xyz}^2 r_{xy}} & \\frac{1}{r_{xy}} & 0_{3 \\times 3}\\\\\n",
    "             \\frac{x}{r_{xyz}} & \\frac{y}{r_{xyz}} & \\frac{z}{r_{xyz}}}\n",
    "$$\n",
    "\n",
    "$ \\tilde{y}_k = z_k - h(\\hat{x}_k^-)$\n",
    "\n",
    "$ K_k = P_k^- H_k^T (R_m + H_k P_k^- H_k^T)^{-1} $\n",
    "\n",
    "$ \\hat{x}_k^+ = \\hat{x}_k^- + K_k \\tilde{y} $\n",
    "\n",
    "$ P_k^+ = (I - K_k H_k)P_k^- $\n",
    "\n",
    "where\n",
    "\n",
    "$R_m = \\pmatrix{0.02^2 & 0 & 0 \\\\\n",
    "              0 & 0.02^2 & 0 \\\\\n",
    "              0 & 0 & 1.0^2 } $ is the model's measurement noise covariance (note here we use the same as the actual measurement's covariance $Q$)"
   ]
  },
  {
   "cell_type": "code",
   "execution_count": 1,
   "metadata": {},
   "outputs": [],
   "source": [
    "import numpy as np\n",
    "from scipy.integrate import solve_ivp\n",
    "import matplotlib.pyplot as plt\n",
    "from dymoesco.dynamics.doubleintegrator import DoubleIntegrator\n",
    "from dymoesco.estimation.filters import EKF\n",
    "np.set_printoptions(suppress=True, precision=3)\n",
    "%load_ext autoreload\n",
    "%autoreload 2"
   ]
  },
  {
   "cell_type": "code",
   "execution_count": 2,
   "metadata": {},
   "outputs": [],
   "source": [
    "# PARAMS\n",
    "v_std = 0.5\n",
    "# For now, we set them all equal\n",
    "x_std = v_std\n",
    "y_std = v_std\n",
    "z_std = v_std\n",
    "\n",
    "x0 = np.array([2,-2,0,5,5.1,0.1])\n",
    "P0 = np.block([[np.eye(3) * 4**2, np.zeros((3,3))],\n",
    "               [np.zeros((3,3)), np.eye(3) * 0.4**2]])\n",
    "a = np.zeros(3)\n",
    "\n",
    "N = 20\n",
    "t_span = (0,N)\n",
    "dt = 1.0\n",
    "t = np.arange(*t_span, dt)"
   ]
  },
  {
   "cell_type": "code",
   "execution_count": 21,
   "metadata": {},
   "outputs": [],
   "source": [
    "def _g(x):\n",
    "    return np.linalg.norm(x)\n",
    "di = DoubleIntegrator(dim=3)\n",
    "di._g = _g\n",
    "ddi = di.discretize(1.0)\n",
    "ddi._g = _g"
   ]
  },
  {
   "cell_type": "code",
   "execution_count": 23,
   "metadata": {},
   "outputs": [],
   "source": [
    "traj = di.simulate(lambda t: a, t_span, x0, t_eval=t, u_std=v_std, y_std=y_std)"
   ]
  },
  {
   "cell_type": "markdown",
   "metadata": {},
   "source": [
    "#### First we write the EKF by calculating the jacobians by hand. Then we'll compare with an autograd implementation"
   ]
  },
  {
   "cell_type": "code",
   "execution_count": 3,
   "metadata": {},
   "outputs": [],
   "source": [
    "# KEEP THIS!\n",
    "class HandEKF():\n",
    "    \n",
    "    def __init__(self, x0, P0, p_std, v_std, a_std, dt):\n",
    "        self.x = x0\n",
    "        self.P = P0\n",
    "        self.dt = dt\n",
    "        self.Q = np.block([[1/4 * dt**4 * np.eye(3), 1/2 * dt**3 * np.eye(3)],\n",
    "                           [1/2 * dt**3 * np.eye(3), dt**2 * np.eye(3)]])\n",
    "        self.R = a_std**2 *np.block([[np.eye(3) * p_std**2, np.zeros((3,3))],\n",
    "                                     [np.zeros((3,3)), np.eye(3) * v_std**2]])\n",
    "        self.A = np.block([[np.eye(3), np.eye(3)*dt],\n",
    "                           [np.zeros((3,3)), np.eye(3)]])\n",
    "        self.B = np.block([[1/2 * np.eye(3) * dt**2],\n",
    "                           [np.eye(3) * dt]])\n",
    "        \n",
    "    def predict(self, a):\n",
    "        self.x = self.A @ self.x + self.B @ a\n",
    "        self.P = self.A @ self.P @ self.A.T + self.Q\n",
    "        return self.x\n",
    "        \n",
    "    def update(self, z):\n",
    "        y = z - self.x\n",
    "        K = self.P @ np.linalg.pinv(self.R + self.P)\n",
    "        self.x = self.x + K@y\n",
    "        self.P = (np.eye(6) - K) @ self.P\n",
    "        return self.x"
   ]
  },
  {
   "cell_type": "markdown",
   "metadata": {},
   "source": [
    "#### Here we use the autograd EKF"
   ]
  },
  {
   "cell_type": "code",
   "execution_count": 35,
   "metadata": {},
   "outputs": [],
   "source": [
    "Q = np.block([[np.zeros((3,3)), np.zeros((3,3))],\n",
    "              [np.zeros((3,3)), v_std * np.eye(3)]])\n",
    "ekf = EKF(ddi.f, ddi.g, Q, np.eye(1))"
   ]
  },
  {
   "cell_type": "code",
   "execution_count": 36,
   "metadata": {},
   "outputs": [],
   "source": [
    "preds = np.zeros((len(t), 6))\n",
    "preds[0] = x0\n",
    "x = x0; P = P0\n",
    "for i in range(1, len(t)):\n",
    "    x, P = ekf.predict(x, P, a)\n",
    "    preds[i] = x"
   ]
  },
  {
   "cell_type": "code",
   "execution_count": 37,
   "metadata": {},
   "outputs": [],
   "source": [
    "# KF with pred + update\n",
    "Ps = np.zeros((N,) + P0.shape)\n",
    "Ps[0] = P0\n",
    "filtered = np.zeros((N,6))\n",
    "filtered[0] = x0\n",
    "x = x0; P = P0;\n",
    "for i in range(1,len(t)):\n",
    "    x, P = ekf.predict(x, P, a)\n",
    "    x, P = ekf.update(x, P, traj.y[i])\n",
    "    filtered[i] = x\n",
    "    Ps[i] = P"
   ]
  },
  {
   "cell_type": "code",
   "execution_count": 48,
   "metadata": {},
   "outputs": [
    {
     "data": {
      "application/vnd.jupyter.widget-view+json": {
       "model_id": "a143e21cdc68428c98d1efe8b681347f",
       "version_major": 2,
       "version_minor": 0
      },
      "text/plain": [
       "interactive(children=(Checkbox(value=True, description='ground_truth'), Checkbox(value=True, description='obse…"
      ]
     },
     "metadata": {},
     "output_type": "display_data"
    }
   ],
   "source": [
    "from ipywidgets import interact\n",
    "@interact(ground_truth=True, observations=True, pred=False, pred_and_update=True)\n",
    "def f(ground_truth, observations, pred, pred_and_update):\n",
    "    fig, ax = plt.subplots()\n",
    "    if ground_truth:\n",
    "        di.plot_phase(traj, label=\"ground truth\", ax=ax, color=\"black\")\n",
    "    if pred:\n",
    "        plt.plot(*preds.T, label=\"KF pred\", color=\"blue\")\n",
    "    #if pred_and_update:\n",
    "        # TODO: fix this (should only take first 3 dimensions of cov matrix)\n",
    "        #ekf.plot(filtered, Ps, ax=ax, label=\"pred+update\", color=\"orange\")\n",
    "    plt.legend()"
   ]
  },
  {
   "cell_type": "code",
   "execution_count": null,
   "metadata": {},
   "outputs": [],
   "source": []
  }
 ],
 "metadata": {
  "kernelspec": {
   "display_name": "robotics",
   "language": "python",
   "name": "robotics"
  },
  "language_info": {
   "codemirror_mode": {
    "name": "ipython",
    "version": 3
   },
   "file_extension": ".py",
   "mimetype": "text/x-python",
   "name": "python",
   "nbconvert_exporter": "python",
   "pygments_lexer": "ipython3",
   "version": "3.8.6"
  }
 },
 "nbformat": 4,
 "nbformat_minor": 4
}
