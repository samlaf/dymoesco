{
 "cells": [
  {
   "cell_type": "markdown",
   "metadata": {},
   "source": [
    "# We implement an Extended Kalman Filter (EKF) on a double integrator $\\ddot{x} = \\epsilon$ with range/bearing measurements\n",
    "We follow https://www.intechopen.com/books/introduction-and-implementations-of-the-kalman-filter/introduction-to-kalman-filter-and-its-applications section 3"
   ]
  },
  {
   "cell_type": "markdown",
   "metadata": {},
   "source": [
    "### Process Model\n",
    "\\begin{align}\n",
    "x_{k+1} &= \\pmatrix{I_{3 \\times 3} & I_{3 \\times 3} \\Delta t \\\\ 0_{3 \\times 3} & I_{3 \\times 3}} x_{k} + v_k \\\\\n",
    "   &= Ax_k + v_k\n",
    "\\end{align}\n",
    "   \n",
    "\n",
    "where\n",
    "\n",
    "$ x_k = [p_k^T, v_k^T] $ \n",
    "\n",
    "$v_k \\sim N(0, Q)$\n",
    "\n",
    "$ Q = \\pmatrix{ 0_{3 \\times 3} & & 0_{3 \\times 3} \\\\\n",
    "                                & \\sigma_x^2 & 0 & 0 \\\\\n",
    "                 0_{3 \\times 3} & 0 & \\sigma_y^2 & 0 \\\\\n",
    "                                & 0 & 0 & \\sigma_z^2} $"
   ]
  },
  {
   "cell_type": "markdown",
   "metadata": {},
   "source": [
    "#### Prediction step\n",
    "$ \\hat{x}_{k+1}^- = A\\hat{x}_k^+$\n",
    "\n",
    "$ P_{k+1}^- = AP_k^+ A^T + Q_m$\n",
    "\n",
    "where\n",
    "\n",
    "$Q_m = \\pmatrix{ 0_{3 \\times 3} & 0_{3 \\times 3} \\\\\n",
    "                 0_{3 \\times 3} & I_{3 \\times 3} \\sigma_v^2 } $ is the model's Q matrix (note that its different from the real Q here)"
   ]
  },
  {
   "cell_type": "markdown",
   "metadata": {},
   "source": [
    "### Measurement model\n",
    "\n",
    " <div style=\"width: 100%;\">\n",
    "     <div style=\"width: 40%; float: left;\">\n",
    "      <img src=\"spherical_coordinates.png\" alt=\"spherical coordinates\" width=\"200\"/>\n",
    "    </div>\n",
    "     <div style=\"width: 49%; float: left;\">\n",
    "\\begin{align}\n",
    "    z_k = \\pmatrix{\\phi \\\\ \\theta \\\\ r} = \n",
    "    \\pmatrix{\\text{atan}\\left(\\frac{x_t-x_s}{y_t - y_s}\\right) \\\\\n",
    "         \\text{atan}\\left(\\frac{z_t - z_s}{r_{xy}}\\right) \\\\\n",
    "         r_{xyz}} + w_k\n",
    "\\end{align}\n",
    "    </div>\n",
    "</div>\n",
    "<br style=\"clear: left;\">\n",
    "\n",
    "where\n",
    "\n",
    "$ r_{xy} = \\sqrt{(x_t-x_s)^2 + (y_t-y_s)^2} $, \n",
    "$ r_{xyz} = \\sqrt{(x_t-x_s)^2 + (y_t-y_s)^2 + (z_t-y_s)^2} $\n",
    "\n",
    "$w_k \\sim N(0, R)$\n",
    "\n",
    "$R = \\pmatrix{0.02^2 & 0 & 0 \\\\\n",
    "              0 & 0.02^2 & 0 \\\\\n",
    "              0 & 0 & 1.0^2 } $"
   ]
  },
  {
   "cell_type": "markdown",
   "metadata": {},
   "source": [
    "#### Update step\n",
    "$$ \n",
    "H_k = \\frac{\\partial z_k}{\\partial x_k}\\Big|_{\\hat{x}_k^-} =\n",
    "   \\pmatrix{ \\frac{-y}{x^2+y^2} & \\frac{x}{x^2+y^2} & 0 \\\\\n",
    "             \\frac{-xz}{r_{xyz}^2 r_{xy}} & \\frac{-yz}{r_{xyz}^2 r_{xy}} & \\frac{1}{r_{xy}} & 0_{3 \\times 3}\\\\\n",
    "             \\frac{x}{r_{xyz}} & \\frac{y}{r_{xyz}} & \\frac{z}{r_{xyz}}}\n",
    "$$\n",
    "\n",
    "$ \\tilde{y}_k = z_k - h(\\hat{x}_k^-)$\n",
    "\n",
    "$ K_k = P_k^- H_k^T (R_m + H_k P_k^- H_k^T)^{-1} $\n",
    "\n",
    "$ \\hat{x}_k^+ = \\hat{x}_k^- + K_k \\tilde{y} $\n",
    "\n",
    "$ P_k^+ = (I - K_k H_k)P_k^- $\n",
    "\n",
    "where\n",
    "\n",
    "$R_m = \\pmatrix{0.02^2 & 0 & 0 \\\\\n",
    "              0 & 0.02^2 & 0 \\\\\n",
    "              0 & 0 & 1.0^2 } $ is the model's measurement noise covariance (note here we use the same as the actual measurement's covariance $Q$)"
   ]
  },
  {
   "cell_type": "code",
   "execution_count": 1,
   "metadata": {},
   "outputs": [],
   "source": [
    "import numpy as np\n",
    "from scipy.integrate import solve_ivp\n",
    "import matplotlib.pyplot as plt\n",
    "np.set_printoptions(suppress=True, precision=3)"
   ]
  },
  {
   "cell_type": "code",
   "execution_count": 29,
   "metadata": {},
   "outputs": [],
   "source": [
    "# PARAMS\n",
    "v_std = 0.5\n",
    "# For now, we set them all equal\n",
    "x_std = v_std\n",
    "y_std = v_std\n",
    "z_std = v_std\n",
    "\n",
    "x0 = np.array([2,-2,0,5,5.1,0.1])\n",
    "P0 = np.block([[np.eye(3) * 4**2, np.zeros((3,3))],\n",
    "               [np.zeros((3,3)), np.eye(3) * 0.4**2]])\n",
    "a = np.zeros(3)\n",
    "dt = 1\n",
    "N = 20"
   ]
  },
  {
   "cell_type": "code",
   "execution_count": null,
   "metadata": {},
   "outputs": [],
   "source": [
    "class EKF():\n",
    "    \n",
    "    def __init__(self, x0, P0, p_std, v_std, a_std, dt):\n",
    "        self.x = x0\n",
    "        self.P = P0\n",
    "        self.dt = dt\n",
    "        self.Q = np.block([[1/4 * dt**4 * np.eye(3), 1/2 * dt**3 * np.eye(3)],\n",
    "                           [1/2 * dt**3 * np.eye(3), dt**2 * np.eye(3)]])\n",
    "        self.R = a_std**2 *np.block([[np.eye(3) * p_std**2, np.zeros((3,3))],\n",
    "                                     [np.zeros((3,3)), np.eye(3) * v_std**2]])\n",
    "        self.A = np.block([[np.eye(3), np.eye(3)*dt],\n",
    "                           [np.zeros((3,3)), np.eye(3)]])\n",
    "        self.B = np.block([[1/2 * np.eye(3) * dt**2],\n",
    "                           [np.eye(3) * dt]])\n",
    "        \n",
    "    def predict(self, a):\n",
    "        self.x = self.A @ self.x + self.B @ a\n",
    "        self.P = self.A @ self.P @ self.A.T + self.Q\n",
    "        return self.x\n",
    "        \n",
    "    def update(self, z):\n",
    "        y = z - self.x\n",
    "        K = self.P @ np.linalg.pinv(self.R + self.P)\n",
    "        self.x = self.x + K@y\n",
    "        self.P = (np.eye(6) - K) @ self.P\n",
    "        return self.x"
   ]
  },
  {
   "cell_type": "code",
   "execution_count": 4,
   "metadata": {},
   "outputs": [],
   "source": [
    "import autograd.numpy as np\n",
    "from autograd import jacobian"
   ]
  },
  {
   "cell_type": "code",
   "execution_count": 26,
   "metadata": {},
   "outputs": [],
   "source": [
    "class EKF():\n",
    "    \n",
    "    def __init__(self, f, g, Q, R):\n",
    "        self.f = f\n",
    "        self.F = jacobian(f)\n",
    "        self.g = g\n",
    "        self.G = jacobian(g)\n",
    "        self.Q = Q\n",
    "        self.R = R\n",
    "\n",
    "    def predict(self, x, P, u):\n",
    "        x = self.f(x, u)\n",
    "        P = self.F(x,u) @ P @ self.F(x,u).T + self.Q\n",
    "        return x, P\n",
    "        \n",
    "    def update(self, x, P, z):\n",
    "        y = z - self.g(x)\n",
    "        Gx = self.G(x)\n",
    "        K = self.P @ Gx @ np.linalg.pinv(Gx @ self.P @ Gx.T + self.R)\n",
    "        x = self.x + K@y\n",
    "        P = (np.eye(P.shape[0]) - K @ G) @ P\n",
    "        return x, P"
   ]
  },
  {
   "cell_type": "code",
   "execution_count": 27,
   "metadata": {},
   "outputs": [],
   "source": [
    "from dynamics.doubleintegrator import DoubleIntegrator\n",
    "di = DoubleIntegrator(2)\n",
    "ddi = di.discretize(0.1)\n",
    "def g(x):\n",
    "    return np.linalg.norm(x)\n",
    "ddi.g = g\n",
    "ekf = EKF(ddi.f, ddi.g, np.eye(2), np.eye(1))"
   ]
  },
  {
   "cell_type": "code",
   "execution_count": 28,
   "metadata": {},
   "outputs": [
    {
     "data": {
      "text/plain": [
       "array([0.707, 0.707])"
      ]
     },
     "execution_count": 28,
     "metadata": {},
     "output_type": "execute_result"
    }
   ],
   "source": [
    "jacobian(ddi.g, 0)(np.array([2.0,2.0]))"
   ]
  },
  {
   "cell_type": "code",
   "execution_count": 6,
   "metadata": {},
   "outputs": [
    {
     "data": {
      "text/plain": [
       "array([0.1, 1.2])"
      ]
     },
     "execution_count": 6,
     "metadata": {},
     "output_type": "execute_result"
    }
   ],
   "source": [
    "x0 = np.array([0.,1.])\n",
    "u = np.array([2.])\n",
    "ddi.f(x0,u)"
   ]
  },
  {
   "cell_type": "code",
   "execution_count": 7,
   "metadata": {},
   "outputs": [
    {
     "data": {
      "text/plain": [
       "array([[1. , 0.1],\n",
       "       [0. , 1. ]])"
      ]
     },
     "execution_count": 7,
     "metadata": {},
     "output_type": "execute_result"
    }
   ],
   "source": [
    "jacobian(ddi.f)(x0,u)"
   ]
  },
  {
   "cell_type": "code",
   "execution_count": 30,
   "metadata": {},
   "outputs": [],
   "source": [
    "from scipy import signal"
   ]
  },
  {
   "cell_type": "code",
   "execution_count": 78,
   "metadata": {},
   "outputs": [
    {
     "data": {
      "text/plain": [
       "<matplotlib.legend.Legend at 0x11fe20640>"
      ]
     },
     "execution_count": 78,
     "metadata": {},
     "output_type": "execute_result"
    },
    {
     "data": {
      "image/png": "[encoded data removed]",
      "text/plain": [
       "<Figure size 432x288 with 1 Axes>"
      ]
     },
     "metadata": {
      "needs_background": "light"
     },
     "output_type": "display_data"
    }
   ],
   "source": [
    "u_rough = np.random.uniform(-1,1,100).reshape(-1,1)\n",
    "plt.plot(u_rough)\n",
    "\n",
    "sos = signal.butter(10, 0.1, output='sos')\n",
    "u_butter = signal.sosfilt(sos, u_rough)\n",
    "plt.plot(u_butter, label=f\"butter\")\n",
    "\n",
    "plt.legend()"
   ]
  },
  {
   "cell_type": "code",
   "execution_count": 86,
   "metadata": {},
   "outputs": [
    {
     "data": {
      "text/plain": [
       "(1, 100)"
      ]
     },
     "execution_count": 86,
     "metadata": {},
     "output_type": "execute_result"
    }
   ],
   "source": [
    "t = np.arange(0, 10, 0.1)\n",
    "size = np.shape(np.array([-1])) + (t.shape[-1],)\n",
    "size"
   ]
  },
  {
   "cell_type": "code",
   "execution_count": 87,
   "metadata": {},
   "outputs": [
    {
     "data": {
      "text/plain": [
       "(1,)"
      ]
     },
     "execution_count": 87,
     "metadata": {},
     "output_type": "execute_result"
    }
   ],
   "source": [
    "np.shape(np.array([-1]))"
   ]
  },
  {
   "cell_type": "code",
   "execution_count": null,
   "metadata": {},
   "outputs": [],
   "source": []
  }
 ],
 "metadata": {
  "kernelspec": {
   "display_name": "robotics-python3",
   "language": "python",
   "name": "robotics-python3"
  },
  "language_info": {
   "codemirror_mode": {
    "name": "ipython",
    "version": 3
   },
   "file_extension": ".py",
   "mimetype": "text/x-python",
   "name": "python",
   "nbconvert_exporter": "python",
   "pygments_lexer": "ipython3",
   "version": "3.8.6"
  }
 },
 "nbformat": 4,
 "nbformat_minor": 4
}
